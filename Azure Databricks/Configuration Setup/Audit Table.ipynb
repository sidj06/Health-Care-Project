{
 "cells": [
  {
   "cell_type": "code",
   "execution_count": 0,
   "metadata": {
    "application/vnd.databricks.v1+cell": {
     "cellMetadata": {
      "byteLimit": 2048000,
      "implicitDf": true,
      "rowLimit": 10000
     },
     "inputWidgets": {},
     "nuid": "be242d68-27fd-4d6d-bec3-165bf1607875",
     "showTitle": false,
     "tableResultSettingsMap": {},
     "title": ""
    }
   },
   "outputs": [],
   "source": [
    "%sql\n",
    "-- -- CREATE CATALOG IF NOT EXISTS HealthCareProject;\n",
    "\n",
    "-- CREATE SCHEMA IF NOT EXISTS adb_dev_healthcareproject.audit;\n",
    "\n",
    "-- CREATE TABLE IF NOT EXISTS  adb_dev_healthcareproject.audit.load_logs (\n",
    "--     id BIGINT GENERATED ALWAYS AS IDENTITY,\n",
    "--     data_source STRING,\n",
    "--     tablename STRING,\n",
    "--     numberofrowscopied INT,\n",
    "--     watermarkcolumnname STRING,\n",
    "--     loaddate TIMESTAMP\n",
    "-- );\n",
    " \n",
    "SELECT * from adb_dev_healthcareproject.audit.load_logs\n",
    "\n",
    "-- truncate table adb_dev_healthcareproject.audit.load_logs\n",
    "\n",
    "-- drop table HealthCareProject.audit.load_logs"
   ]
  },
  {
   "cell_type": "code",
   "execution_count": 0,
   "metadata": {
    "application/vnd.databricks.v1+cell": {
     "cellMetadata": {},
     "inputWidgets": {},
     "nuid": "4e1c628b-00bb-4606-bae0-697fdd160a0a",
     "showTitle": false,
     "tableResultSettingsMap": {},
     "title": ""
    }
   },
   "outputs": [],
   "source": []
  }
 ],
 "metadata": {
  "application/vnd.databricks.v1+notebook": {
   "computePreferences": null,
   "dashboards": [],
   "environmentMetadata": {
    "base_environment": "",
    "environment_version": "2"
   },
   "language": "python",
   "notebookMetadata": {
    "mostRecentlyExecutedCommandWithImplicitDF": {
     "commandId": 7586502500814482,
     "dataframes": [
      "_sqldf"
     ]
    },
    "pythonIndentUnit": 4
   },
   "notebookName": "Audit Table",
   "widgets": {}
  },
  "language_info": {
   "name": "python"
  }
 },
 "nbformat": 4,
 "nbformat_minor": 0
}
