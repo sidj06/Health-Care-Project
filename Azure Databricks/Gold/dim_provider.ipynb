{
 "cells": [
  {
   "cell_type": "code",
   "execution_count": 0,
   "metadata": {
    "application/vnd.databricks.v1+cell": {
     "cellMetadata": {
      "byteLimit": 2048000,
      "implicitDf": true,
      "rowLimit": 10000
     },
     "inputWidgets": {},
     "nuid": "8ef1a84d-4fbe-463e-9315-5ea06ba4dd70",
     "showTitle": true,
     "tableResultSettingsMap": {},
     "title": "Creating Gold Table"
    }
   },
   "outputs": [],
   "source": [
    "%sql\n",
    "CREATE TABLE IF NOT EXISTS gold.dim_provider\n",
    "(\n",
    "ProviderID string,\n",
    "FirstName string,\n",
    "LastName string,\n",
    "DeptID string,\n",
    "NPI long,\n",
    "datasource string\n",
    ")"
   ]
  },
  {
   "cell_type": "code",
   "execution_count": 0,
   "metadata": {
    "application/vnd.databricks.v1+cell": {
     "cellMetadata": {
      "byteLimit": 2048000,
      "implicitDf": true,
      "rowLimit": 10000
     },
     "inputWidgets": {},
     "nuid": "0c3d538b-b5ec-4faa-8aa5-85d986941158",
     "showTitle": true,
     "tableResultSettingsMap": {},
     "title": "Truncate Gold Table"
    }
   },
   "outputs": [],
   "source": [
    "%sql\n",
    "truncate TABLE gold.dim_provider "
   ]
  },
  {
   "cell_type": "code",
   "execution_count": 0,
   "metadata": {
    "application/vnd.databricks.v1+cell": {
     "cellMetadata": {
      "byteLimit": 2048000,
      "implicitDf": true,
      "rowLimit": 10000
     },
     "inputWidgets": {},
     "nuid": "7b4ea977-d56f-471f-869b-9f9966eab9eb",
     "showTitle": true,
     "tableResultSettingsMap": {},
     "title": "Insert into Gold Table"
    }
   },
   "outputs": [],
   "source": [
    "%sql\n",
    "insert into gold.dim_provider\n",
    "select \n",
    "ProviderID ,\n",
    "FirstName ,\n",
    "LastName ,\n",
    "concat(DeptID,'-',datasource) deptid,\n",
    "NPI ,\n",
    "datasource \n",
    "from silver.providers\n",
    "where is_quarantined=false"
   ]
  }
 ],
 "metadata": {
  "application/vnd.databricks.v1+notebook": {
   "computePreferences": null,
   "dashboards": [],
   "environmentMetadata": {
    "base_environment": "",
    "environment_version": "2"
   },
   "language": "python",
   "notebookMetadata": {
    "mostRecentlyExecutedCommandWithImplicitDF": {
     "commandId": 2358224500351252,
     "dataframes": [
      "_sqldf"
     ]
    },
    "pythonIndentUnit": 4
   },
   "notebookName": "dim_provider",
   "widgets": {}
  },
  "language_info": {
   "name": "python"
  }
 },
 "nbformat": 4,
 "nbformat_minor": 0
}
