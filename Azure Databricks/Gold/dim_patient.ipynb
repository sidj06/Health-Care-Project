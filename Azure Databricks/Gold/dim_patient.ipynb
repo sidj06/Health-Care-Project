{
 "cells": [
  {
   "cell_type": "code",
   "execution_count": 0,
   "metadata": {
    "application/vnd.databricks.v1+cell": {
     "cellMetadata": {
      "byteLimit": 2048000,
      "implicitDf": true,
      "rowLimit": 10000
     },
     "inputWidgets": {},
     "nuid": "8ef1a84d-4fbe-463e-9315-5ea06ba4dd70",
     "showTitle": true,
     "tableResultSettingsMap": {},
     "title": "Creating Gold Table"
    }
   },
   "outputs": [],
   "source": [
    "%sql\n",
    "CREATE TABLE IF NOT EXISTS gold.dim_patient\n",
    "(\n",
    "    patient_key STRING,\n",
    "    src_patientid STRING,\n",
    "    firstname STRING,\n",
    "    lastname STRING,\n",
    "    middlename STRING,\n",
    "    ssn STRING,\n",
    "    phonenumber STRING,\n",
    "    gender STRING,\n",
    "    dob DATE,\n",
    "    address STRING,\n",
    "    datasource STRING\n",
    ")"
   ]
  },
  {
   "cell_type": "code",
   "execution_count": 0,
   "metadata": {
    "application/vnd.databricks.v1+cell": {
     "cellMetadata": {
      "byteLimit": 2048000,
      "implicitDf": true,
      "rowLimit": 10000
     },
     "inputWidgets": {},
     "nuid": "0c3d538b-b5ec-4faa-8aa5-85d986941158",
     "showTitle": true,
     "tableResultSettingsMap": {},
     "title": "Truncate Gold Table"
    }
   },
   "outputs": [],
   "source": [
    "%sql\n",
    "truncate TABLE gold.dim_patient "
   ]
  },
  {
   "cell_type": "code",
   "execution_count": 0,
   "metadata": {
    "application/vnd.databricks.v1+cell": {
     "cellMetadata": {
      "byteLimit": 2048000,
      "implicitDf": true,
      "rowLimit": 10000
     },
     "inputWidgets": {},
     "nuid": "7b4ea977-d56f-471f-869b-9f9966eab9eb",
     "showTitle": true,
     "tableResultSettingsMap": {},
     "title": "Insert into Gold Table"
    }
   },
   "outputs": [],
   "source": [
    "%sql\n",
    "insert into gold.dim_patient\n",
    "select \n",
    "     patient_key ,\n",
    "    src_patientid ,\n",
    "    firstname ,\n",
    "    lastname ,\n",
    "    middlename ,\n",
    "    ssn ,\n",
    "    phonenumber ,\n",
    "    gender ,\n",
    "    dob ,\n",
    "    address ,\n",
    "    datasource \n",
    "from silver.patients\n",
    "where is_current=true and is_quarantined=false"
   ]
  }
 ],
 "metadata": {
  "application/vnd.databricks.v1+notebook": {
   "computePreferences": null,
   "dashboards": [],
   "environmentMetadata": {
    "base_environment": "",
    "environment_version": "2"
   },
   "language": "python",
   "notebookMetadata": {
    "mostRecentlyExecutedCommandWithImplicitDF": {
     "commandId": 2358224500351247,
     "dataframes": [
      "_sqldf"
     ]
    },
    "pythonIndentUnit": 4
   },
   "notebookName": "dim_patient",
   "widgets": {}
  },
  "language_info": {
   "name": "python"
  }
 },
 "nbformat": 4,
 "nbformat_minor": 0
}
