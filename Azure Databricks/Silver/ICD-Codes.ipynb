{
 "cells": [
  {
   "cell_type": "code",
   "execution_count": 0,
   "metadata": {
    "application/vnd.databricks.v1+cell": {
     "cellMetadata": {
      "byteLimit": 2048000,
      "rowLimit": 10000
     },
     "inputWidgets": {},
     "nuid": "b6aeb369-0d36-40e0-8ca4-c25f46586be4",
     "showTitle": false,
     "tableResultSettingsMap": {},
     "title": ""
    }
   },
   "outputs": [],
   "source": [
    "ICD_Codes_df = spark.read.format(\"parquet\").option(\"header\",True).option(\"inferschema\",True).load(\"abfss://bronze@adlshealthcaredev.dfs.core.windows.net/ICD-Codes\")"
   ]
  },
  {
   "cell_type": "code",
   "execution_count": 0,
   "metadata": {
    "application/vnd.databricks.v1+cell": {
     "cellMetadata": {
      "byteLimit": 2048000,
      "rowLimit": 10000
     },
     "inputWidgets": {},
     "nuid": "dd5203b8-3d4b-4b66-8932-697f22272f28",
     "showTitle": false,
     "tableResultSettingsMap": {},
     "title": ""
    }
   },
   "outputs": [],
   "source": [
    "ICD_Codes_df.createOrReplaceTempView(\"icdcodes\")"
   ]
  },
  {
   "cell_type": "code",
   "execution_count": 0,
   "metadata": {
    "application/vnd.databricks.v1+cell": {
     "cellMetadata": {
      "byteLimit": 2048000,
      "implicitDf": true,
      "rowLimit": 10000
     },
     "inputWidgets": {},
     "nuid": "1ab664ce-982a-4ab4-acc9-a8b032658544",
     "showTitle": false,
     "tableResultSettingsMap": {},
     "title": ""
    }
   },
   "outputs": [],
   "source": [
    "%sql\n",
    "SELECT * FROM icdcodes"
   ]
  },
  {
   "cell_type": "code",
   "execution_count": 0,
   "metadata": {
    "application/vnd.databricks.v1+cell": {
     "cellMetadata": {
      "byteLimit": 2048000,
      "implicitDf": true,
      "rowLimit": 10000
     },
     "inputWidgets": {},
     "nuid": "69dabf26-2d67-4eb4-8582-51a675a1e96b",
     "showTitle": false,
     "tableResultSettingsMap": {},
     "title": ""
    }
   },
   "outputs": [],
   "source": [
    "%sql\n",
    "CREATE TABLE IF NOT EXISTS silver.icd_codes (\n",
    "    icd_code STRING,\n",
    "    icd_code_type STRING,\n",
    "    code_description STRING,\n",
    "    inserted_date DATE,\n",
    "    updated_date DATE,\n",
    "    is_current_flag BOOLEAN\n",
    ")"
   ]
  },
  {
   "cell_type": "code",
   "execution_count": 0,
   "metadata": {
    "application/vnd.databricks.v1+cell": {
     "cellMetadata": {
      "byteLimit": 2048000,
      "implicitDf": true,
      "rowLimit": 10000
     },
     "inputWidgets": {},
     "nuid": "9577ce53-f9e8-4b61-9210-f639428337e9",
     "showTitle": false,
     "tableResultSettingsMap": {},
     "title": ""
    }
   },
   "outputs": [],
   "source": [
    "%sql\n",
    "MERGE INTO\n",
    "  silver.icd_codes AS target\n",
    "USING\n",
    "  icdcodes AS source\n",
    "ON target.icd_code = source.icd_code\n",
    "WHEN MATCHED AND\n",
    "  target.code_description != source.code_description\n",
    "  THEN UPDATE SET\n",
    "  target.code_description = source.code_description,\n",
    "  target.updated_date = source.updated_date\n",
    "WHEN NOT MATCHED THEN INSERT (\n",
    "    icd_code, icd_code_type, code_description, inserted_date, updated_date, is_current_flag\n",
    "  )\n",
    "  VALUES (\n",
    "    source.icd_code,\n",
    "    source.icd_code_type,\n",
    "    source.code_description,\n",
    "    source.inserted_date,\n",
    "    source.updated_date,\n",
    "    source.is_current_flag\n",
    "  )"
   ]
  }
 ],
 "metadata": {
  "application/vnd.databricks.v1+notebook": {
   "computePreferences": null,
   "dashboards": [],
   "environmentMetadata": {
    "base_environment": "",
    "environment_version": "2"
   },
   "language": "python",
   "notebookMetadata": {
    "mostRecentlyExecutedCommandWithImplicitDF": {
     "commandId": 4700173435923493,
     "dataframes": [
      "_sqldf"
     ]
    },
    "pythonIndentUnit": 4
   },
   "notebookName": "ICD-Codes",
   "widgets": {}
  },
  "language_info": {
   "name": "python"
  }
 },
 "nbformat": 4,
 "nbformat_minor": 0
}
