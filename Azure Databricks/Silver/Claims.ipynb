{
 "cells": [
  {
   "cell_type": "code",
   "execution_count": 0,
   "metadata": {
    "application/vnd.databricks.v1+cell": {
     "cellMetadata": {
      "byteLimit": 2048000,
      "rowLimit": 10000
     },
     "inputWidgets": {},
     "nuid": "9d0646e0-32c6-430f-ad2b-6480fc33562b",
     "showTitle": true,
     "tableResultSettingsMap": {},
     "title": "Reading the Claims File"
    }
   },
   "outputs": [],
   "source": [
    "Claims_df = spark.read.format(\"parquet\").option(\"inferSchema\",True).option(\"header\",True).load(\"abfss://bronze@adlshealthcaredev.dfs.core.windows.net/Claims\")\n",
    "Claims_df.createOrReplaceTempView('claims')"
   ]
  },
  {
   "cell_type": "code",
   "execution_count": 0,
   "metadata": {
    "application/vnd.databricks.v1+cell": {
     "cellMetadata": {
      "byteLimit": 2048000,
      "implicitDf": true,
      "rowLimit": 10000
     },
     "inputWidgets": {},
     "nuid": "edad6212-d571-491f-a20e-ce5670ffc250",
     "showTitle": true,
     "tableResultSettingsMap": {},
     "title": "Inserting Data into Quality Check"
    }
   },
   "outputs": [],
   "source": [
    "%sql\n",
    "CREATE OR REPLACE TEMP VIEW silver_quality_check AS\n",
    "SELECT \n",
    "CONCAT(ClaimID,'-', datasource) AS ClaimID,\n",
    "ClaimID AS  SRC_ClaimID,\n",
    "TransactionID,\n",
    "PatientID,\n",
    "EncounterID,\n",
    "ProviderID,\n",
    "DeptID,\n",
    "cast(ServiceDate as date) ServiceDate,\n",
    "cast(ClaimDate as date) ClaimDate,\n",
    "PayorID,\n",
    "ClaimAmount,\n",
    "PaidAmount,\n",
    "ClaimStatus,\n",
    "PayorType,\n",
    "Deductible,\n",
    "Coinsurance,\n",
    "Copay,\n",
    "cast(InsertDate as date) as SRC_InsertDate,\n",
    "cast(ModifiedDate as date) as SRC_ModifiedDate,\n",
    "datasource,\n",
    "CASE \n",
    "    WHEN ClaimID IS NULL OR TransactionID IS NULL OR PatientID IS NULL or ServiceDate IS NULL THEN TRUE\n",
    "\tELSE FALSE\n",
    "\t\tEND AS is_quarantined\n",
    "FROM claims"
   ]
  },
  {
   "cell_type": "code",
   "execution_count": 0,
   "metadata": {
    "application/vnd.databricks.v1+cell": {
     "cellMetadata": {
      "byteLimit": 2048000,
      "implicitDf": true,
      "rowLimit": 10000
     },
     "inputWidgets": {},
     "nuid": "24d64f23-4167-4e23-8510-28cf488314fd",
     "showTitle": false,
     "tableResultSettingsMap": {},
     "title": ""
    }
   },
   "outputs": [],
   "source": [
    "%sql\n",
    "SELECT * FROM silver_quality_check"
   ]
  },
  {
   "cell_type": "code",
   "execution_count": 0,
   "metadata": {
    "application/vnd.databricks.v1+cell": {
     "cellMetadata": {
      "byteLimit": 2048000,
      "implicitDf": true,
      "rowLimit": 10000
     },
     "inputWidgets": {},
     "nuid": "1546acae-fa1e-41c5-8592-fc00a81357d8",
     "showTitle": true,
     "tableResultSettingsMap": {},
     "title": "Creating Silver Claims Table"
    }
   },
   "outputs": [],
   "source": [
    "%sql\n",
    "CREATE TABLE IF NOT EXISTS silver.claims (\n",
    "ClaimID string,\n",
    "SRC_ClaimID string,\n",
    "TransactionID string,\n",
    "PatientID string,\n",
    "EncounterID string,\n",
    "ProviderID string,\n",
    "DeptID string,\n",
    "ServiceDate date,\n",
    "ClaimDate date,\n",
    "PayorID string,\n",
    "ClaimAmount string,\n",
    "PaidAmount string,\n",
    "ClaimStatus string,\n",
    "PayorType string,\n",
    "Deductible string,\n",
    "Coinsurance string,\n",
    "Copay string,\n",
    "SRC_InsertDate date,\n",
    "SRC_ModifiedDate date,\n",
    "datasource string,\n",
    "is_quarantined boolean,\n",
    "audit_insertdate timestamp,\n",
    "audit_modifieddate timestamp,\n",
    "is_current boolean\n",
    ")\n",
    "USING DELTA;"
   ]
  },
  {
   "cell_type": "code",
   "execution_count": 0,
   "metadata": {
    "application/vnd.databricks.v1+cell": {
     "cellMetadata": {
      "byteLimit": 2048000,
      "implicitDf": true,
      "rowLimit": 10000
     },
     "inputWidgets": {},
     "nuid": "629dfa0d-2d2b-4f98-ad68-ce86c2c29871",
     "showTitle": true,
     "tableResultSettingsMap": {},
     "title": "Implementing SCD TYPE 2"
    }
   },
   "outputs": [],
   "source": [
    "%sql\n",
    "MERGE INTO silver.claims AS target\n",
    "USING silver_quality_check AS source\n",
    "ON target.ClaimID = source.ClaimID AND target.is_current = true\n",
    "WHEN MATCHED AND (\n",
    "    target.SRC_ClaimID != source.SRC_ClaimID OR\n",
    "    target.TransactionID != source.TransactionID OR\n",
    "    target.PatientID != source.PatientID OR\n",
    "    target.EncounterID != source.EncounterID OR\n",
    "    target.ProviderID != source.ProviderID OR\n",
    "    target.DeptID != source.DeptID OR\n",
    "    target.ServiceDate != source.ServiceDate OR\n",
    "    target.ClaimDate != source.ClaimDate OR\n",
    "    target.PayorID != source.PayorID OR\n",
    "    target.ClaimAmount != source.ClaimAmount OR\n",
    "    target.PaidAmount != source.PaidAmount OR\n",
    "    target.ClaimStatus != source.ClaimStatus OR\n",
    "    target.PayorType != source.PayorType OR\n",
    "    target.Deductible != source.Deductible OR\n",
    "    target.Coinsurance != source.Coinsurance OR\n",
    "    target.Copay != source.Copay OR\n",
    "    target.SRC_InsertDate != source.SRC_InsertDate OR\n",
    "    target.SRC_ModifiedDate != source.SRC_ModifiedDate OR\n",
    "    target.datasource != source.datasource OR\n",
    "    target.is_quarantined != source.is_quarantined\n",
    ") THEN\n",
    "  UPDATE SET\n",
    "    target.is_current = false,\n",
    "    target.audit_modifieddate = current_timestamp()\n",
    "\n",
    "WHEN NOT MATCHED THEN\n",
    "INSERT (\n",
    "ClaimID,\n",
    "SRC_ClaimID,\n",
    "TransactionID,\n",
    "PatientID,\n",
    "EncounterID,\n",
    "ProviderID,\n",
    "DeptID,\n",
    "ServiceDate,\n",
    "ClaimDate,\n",
    "PayorID,\n",
    "ClaimAmount,\n",
    "PaidAmount,\n",
    "ClaimStatus,\n",
    "PayorType,\n",
    "Deductible,\n",
    "Coinsurance,\n",
    "Copay,\n",
    "SRC_InsertDate,\n",
    "SRC_ModifiedDate,\n",
    "datasource,\n",
    "is_quarantined,\n",
    "audit_insertdate,\n",
    "audit_modifieddate,\n",
    "is_current)\n",
    "VALUES \n",
    "( source.ClaimID,\n",
    "source.SRC_ClaimID,\n",
    "source.TransactionID,\n",
    "source.PatientID,\n",
    "source.EncounterID,\n",
    "source.ProviderID,\n",
    "source.DeptID,\n",
    "source.ServiceDate,\n",
    "source.ClaimDate,\n",
    "source.PayorID,\n",
    "source.ClaimAmount,\n",
    "source.PaidAmount,\n",
    "source.ClaimStatus,\n",
    "source.PayorType,\n",
    "source.Deductible,\n",
    "source.Coinsurance,\n",
    "source.Copay,\n",
    "source.SRC_InsertDate,\n",
    "source.SRC_ModifiedDate,\n",
    "source.datasource,\n",
    "source.is_quarantined,\n",
    "current_timestamp(),\n",
    "current_timestamp(),\n",
    "true\n",
    ");"
   ]
  },
  {
   "cell_type": "code",
   "execution_count": 0,
   "metadata": {
    "application/vnd.databricks.v1+cell": {
     "cellMetadata": {
      "byteLimit": 2048000,
      "implicitDf": true,
      "rowLimit": 10000
     },
     "inputWidgets": {},
     "nuid": "45f3bd0d-c518-492f-b710-14348b74f36b",
     "showTitle": false,
     "tableResultSettingsMap": {},
     "title": ""
    }
   },
   "outputs": [],
   "source": [
    "%sql\n",
    "SELECT *\n",
    "FROM silver.claims;"
   ]
  }
 ],
 "metadata": {
  "application/vnd.databricks.v1+notebook": {
   "computePreferences": null,
   "dashboards": [],
   "environmentMetadata": {
    "base_environment": "",
    "environment_version": "2"
   },
   "language": "python",
   "notebookMetadata": {
    "mostRecentlyExecutedCommandWithImplicitDF": {
     "commandId": 8852188560903873,
     "dataframes": [
      "_sqldf"
     ]
    },
    "pythonIndentUnit": 4
   },
   "notebookName": "Claims",
   "widgets": {}
  },
  "language_info": {
   "name": "python"
  }
 },
 "nbformat": 4,
 "nbformat_minor": 0
}
