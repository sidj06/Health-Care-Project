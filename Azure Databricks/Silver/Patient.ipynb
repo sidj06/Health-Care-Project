{
 "cells": [
  {
   "cell_type": "code",
   "execution_count": 0,
   "metadata": {
    "application/vnd.databricks.v1+cell": {
     "cellMetadata": {
      "byteLimit": 2048000,
      "rowLimit": 10000
     },
     "inputWidgets": {},
     "nuid": "87053398-49bb-46a2-aafe-cab1b8b07b10",
     "showTitle": true,
     "tableResultSettingsMap": {},
     "title": "Creating Hosa DataFrame"
    }
   },
   "outputs": [],
   "source": [
    "df_hosa = spark.read.format(\"parquet\").option(\"header\",True).option(\"inferschema\",True).load(\"abfss://bronze@adlshealthcaredev.dfs.core.windows.net/hosa/patients\")\n",
    "df_hosa.createOrReplaceTempView(\"patients_hosa\")"
   ]
  },
  {
   "cell_type": "code",
   "execution_count": 0,
   "metadata": {
    "application/vnd.databricks.v1+cell": {
     "cellMetadata": {
      "byteLimit": 2048000,
      "rowLimit": 10000
     },
     "inputWidgets": {},
     "nuid": "bf5ef80c-fceb-445c-93aa-b7f6ca79e63b",
     "showTitle": true,
     "tableResultSettingsMap": {},
     "title": "Creating Hosb DataFrame"
    }
   },
   "outputs": [],
   "source": [
    "df_hosb = spark.read.format(\"parquet\").option(\"header\",True).option(\"inferschema\",True).load(\"abfss://bronze@adlshealthcaredev.dfs.core.windows.net/hosb/patients\")\n",
    "df_hosb.createOrReplaceTempView(\"patients_hosb\")"
   ]
  },
  {
   "cell_type": "code",
   "execution_count": 0,
   "metadata": {
    "application/vnd.databricks.v1+cell": {
     "cellMetadata": {
      "byteLimit": 2048000,
      "implicitDf": true,
      "rowLimit": 10000
     },
     "inputWidgets": {},
     "nuid": "65acfebf-b21b-4877-a60a-aef3f43e6ca4",
     "showTitle": true,
     "tableResultSettingsMap": {},
     "title": "Union both DataFrame"
    }
   },
   "outputs": [],
   "source": [
    "%sql\n",
    "CREATE OR REPLACE TEMP VIEW patients_staging AS\n",
    "SELECT CONCAT(SRC_PatientID,'-', datasource) AS Patient_Key, *\n",
    "FROM (\n",
    "SELECT \n",
    "PatientID AS SRC_PatientID ,\n",
    "FirstName,\n",
    "LastName,\n",
    "MiddleName,\n",
    "SSN,\n",
    "PhoneNumber,\n",
    "Gender,\n",
    "DOB,\n",
    "Address,\n",
    "ModifiedDate,\n",
    "datasource\n",
    "FROM patients_hosa\n",
    "UNION ALL\n",
    "SELECT \n",
    "ID AS SRC_PatientID,\n",
    "F_Name AS FirstName,\n",
    "L_Name AS LastName,\n",
    "M_Name ASMiddleName,\n",
    "SSN,\n",
    "PhoneNumber,\n",
    "Gender,\n",
    "DOB,\n",
    "Address,\n",
    "Updated_Date AS ModifiedDate,\n",
    "datasource\n",
    " FROM patients_hosb )"
   ]
  },
  {
   "cell_type": "code",
   "execution_count": 0,
   "metadata": {
    "application/vnd.databricks.v1+cell": {
     "cellMetadata": {
      "byteLimit": 2048000,
      "implicitDf": true,
      "rowLimit": 10000
     },
     "inputWidgets": {},
     "nuid": "53dd8c04-ab07-4f49-8550-1b1f50f9767e",
     "showTitle": true,
     "tableResultSettingsMap": {},
     "title": "Quality Check"
    }
   },
   "outputs": [],
   "source": [
    "%sql\n",
    "CREATE OR REPLACE TEMP VIEW quality_checks AS\n",
    "SELECT \n",
    "    Patient_Key,\n",
    "    SRC_PatientID,\n",
    "    FirstName,\n",
    "    LastName,\n",
    "    MiddleName,\n",
    "    SSN,\n",
    "    PhoneNumber,\n",
    "    Gender,\n",
    "    DOB,\n",
    "    Address,\n",
    "    ModifiedDate As SRC_ModifiedDate,\n",
    "    datasource,\n",
    "    CASE \n",
    "\tWHEN SRC_PatientID IS NULL OR dob IS NULL OR firstname IS NULL or lower(firstname)='null' THEN TRUE\n",
    "\t\tELSE FALSE\n",
    "\tEND AS is_quarantined\n",
    "FROM patients_staging"
   ]
  },
  {
   "cell_type": "code",
   "execution_count": 0,
   "metadata": {
    "application/vnd.databricks.v1+cell": {
     "cellMetadata": {
      "byteLimit": 2048000,
      "implicitDf": true,
      "rowLimit": 10000
     },
     "inputWidgets": {},
     "nuid": "b6be305a-5eee-4c44-8eb6-76d58d7b6072",
     "showTitle": true,
     "tableResultSettingsMap": {},
     "title": "Creating Silver Table"
    }
   },
   "outputs": [],
   "source": [
    "%sql\n",
    "CREATE TABLE IF NOT EXISTS silver.patients (\n",
    "Patient_Key STRING,\n",
    "SRC_PatientID STRING,\n",
    "FirstName STRING,\n",
    "LastName STRING,\n",
    "MiddleName STRING,\n",
    "SSN STRING,\n",
    "PhoneNumber STRING,\n",
    "Gender STRING,\n",
    "DOB DATE,\n",
    "Address STRING,\n",
    "SRC_ModifiedDate TIMESTAMP,\n",
    "datasource STRING,\n",
    "is_quarantined BOOLEAN,\n",
    "inserted_date TIMESTAMP,\n",
    "modified_date TIMESTAMP,\n",
    "is_current BOOLEAN)\n",
    "USING DELTA;"
   ]
  },
  {
   "cell_type": "code",
   "execution_count": 0,
   "metadata": {
    "application/vnd.databricks.v1+cell": {
     "cellMetadata": {
      "byteLimit": 2048000,
      "implicitDf": true,
      "rowLimit": 10000
     },
     "inputWidgets": {},
     "nuid": "c9cc38cb-a5b1-421b-8704-f38853f3615b",
     "showTitle": true,
     "tableResultSettingsMap": {},
     "title": "SCD Type2 Implementation"
    }
   },
   "outputs": [],
   "source": [
    "%sql\n",
    "MERGE INTO silver.patients AS target\n",
    "USING quality_checks AS source\n",
    "ON target.Patient_Key = source.Patient_Key\n",
    "AND target.is_current = true \n",
    "WHEN MATCHED\n",
    "AND (\n",
    "    target.SRC_PatientID <> source.SRC_PatientID OR\n",
    "    target.FirstName <> source.FirstName OR\n",
    "    target.LastName <> source.LastName OR\n",
    "    target.MiddleName <> source.MiddleName OR\n",
    "    target.SSN <> source.SSN OR\n",
    "    target.PhoneNumber <> source.PhoneNumber OR\n",
    "    target.Gender <> source.Gender OR\n",
    "    target.DOB <> source.DOB OR\n",
    "    target.Address <> source.Address OR\n",
    "    target.SRC_ModifiedDate <> source.SRC_ModifiedDate OR\n",
    "    target.datasource <> source.datasource OR\n",
    "    target.is_quarantined <> source.is_quarantined\n",
    ")\n",
    "THEN UPDATE SET\n",
    "    target.is_current = false,\n",
    "    target.modified_date = current_timestamp()\n",
    "WHEN NOT MATCHED\n",
    "THEN INSERT (\n",
    "    Patient_Key,\n",
    "    SRC_PatientID,\n",
    "    FirstName,\n",
    "    LastName,\n",
    "    MiddleName,\n",
    "    SSN,\n",
    "    PhoneNumber,\n",
    "    Gender,\n",
    "    DOB,\n",
    "    Address,\n",
    "    SRC_ModifiedDate,\n",
    "    datasource,\n",
    "    is_quarantined,\n",
    "    inserted_date,\n",
    "    modified_date,\n",
    "    is_current\n",
    ")\n",
    "VALUES (\n",
    "    source.Patient_Key,\n",
    "    source.SRC_PatientID,\n",
    "    source.FirstName,\n",
    "    source.LastName,\n",
    "    source.MiddleName,\n",
    "    source.SSN,\n",
    "    source.PhoneNumber,\n",
    "    source.Gender,\n",
    "    source.DOB,\n",
    "    source.Address,\n",
    "    source.SRC_ModifiedDate,\n",
    "    source.datasource,\n",
    "    source.is_quarantined,\n",
    "    current_timestamp(), -- Set inserted_date to current timestamp\n",
    "    current_timestamp(), -- Set modified_date to current timestamp\n",
    "    true -- Mark as current\n",
    ");"
   ]
  }
 ],
 "metadata": {
  "application/vnd.databricks.v1+notebook": {
   "computePreferences": null,
   "dashboards": [],
   "environmentMetadata": {
    "base_environment": "",
    "environment_version": "2"
   },
   "language": "python",
   "notebookMetadata": {
    "mostRecentlyExecutedCommandWithImplicitDF": {
     "commandId": 5365833752775706,
     "dataframes": [
      "_sqldf"
     ]
    },
    "pythonIndentUnit": 4
   },
   "notebookName": "Patient",
   "widgets": {}
  },
  "language_info": {
   "name": "python"
  }
 },
 "nbformat": 4,
 "nbformat_minor": 0
}
