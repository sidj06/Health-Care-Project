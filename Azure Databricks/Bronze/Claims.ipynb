{
 "cells": [
  {
   "cell_type": "code",
   "execution_count": 0,
   "metadata": {
    "application/vnd.databricks.v1+cell": {
     "cellMetadata": {
      "byteLimit": 2048000,
      "rowLimit": 10000
     },
     "inputWidgets": {},
     "nuid": "b714bc8e-f4cd-4601-83ff-432b213c1f8b",
     "showTitle": false,
     "tableResultSettingsMap": {},
     "title": ""
    }
   },
   "outputs": [],
   "source": [
    "# Databricks notebook source\n",
    "from pyspark.sql import SparkSession, functions as f\n",
    "\n",
    "claims_df=spark.read.csv(\"abfss://landing@adlshealthcaredev.dfs.core.windows.net/Claims/*.csv\",header=True)\n",
    "\n",
    "# Add 'datasource' column using _metadata.file_path\n",
    "claims_df = claims_df.withColumn(\n",
    "    \"datasource\",\n",
    "    f.when(f.col(\"_metadata.file_path\").contains(\"hospital1\"), f.lit(\"hosa\"))\n",
    "     .when(f.col(\"_metadata.file_path\").contains(\"hospital2\"), f.lit(\"hosb\"))\n",
    "     .otherwise(f.lit(None))  # Ensuring None is explicitly handled\n",
    ")\n",
    "\n",
    "# display(claims_df)\n",
    "\n",
    "# DBTITLE 1,Parquet file creation\n",
    "claims_df.write.format(\"parquet\").mode(\"overwrite\").save(\"abfss://bronze@adlshealthcaredev.dfs.core.windows.net/Claims\")"
   ]
  }
 ],
 "metadata": {
  "application/vnd.databricks.v1+notebook": {
   "computePreferences": null,
   "dashboards": [],
   "environmentMetadata": {
    "base_environment": "",
    "environment_version": "2"
   },
   "language": "python",
   "notebookMetadata": {
    "mostRecentlyExecutedCommandWithImplicitDF": {
     "commandId": 8852188560903867,
     "dataframes": [
      "_sqldf"
     ]
    },
    "pythonIndentUnit": 4
   },
   "notebookName": "Claims",
   "widgets": {}
  },
  "language_info": {
   "name": "python"
  }
 },
 "nbformat": 4,
 "nbformat_minor": 0
}
